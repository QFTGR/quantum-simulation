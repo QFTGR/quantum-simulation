{
 "cells": [
  {
   "cell_type": "markdown",
   "metadata": {},
   "source": [
    "# Reinforcement learning for Hamiltonian engineering"
   ]
  },
  {
   "cell_type": "markdown",
   "metadata": {},
   "source": [
    "## Set environment"
   ]
  },
  {
   "cell_type": "code",
   "execution_count": 1,
   "metadata": {},
   "outputs": [],
   "source": [
    "import os, subprocess, time, signal\n",
    "import gym\n",
    "from gym import error, spaces\n",
    "from gym import utils\n",
    "from gym.utils import seeding\n",
    "import numpy as np\n",
    "from scipy.linalg import expm\n",
    "import gym_pp\n",
    "\n",
    "# 10-base to arbitrary base\n",
    "def dec2base(num,base,length):\n",
    "    s=''\n",
    "    if num>base**length-1:\n",
    "        raise ValueError('Input number exceeds the maximum number allowed by the length')\n",
    "    for i in range(length):\n",
    "        s=s+chr(ord('0')+int(num/(base**(length-1-i))))\n",
    "        num=num-int(num/(base**(length-1-i)))*(base**(length-1-i))\n",
    "    return s\n",
    "\n",
    "# given a state dict, return a str that specifies all pulses\n",
    "def getPPstr(state,actionDict=['d','x','y','-x','-y']):\n",
    "    num=state['pp']\n",
    "    base=len(actionDict)\n",
    "    length=state['n']\n",
    "    rawPulseStr=dec2base(num,base,length)\n",
    "    pulseStr=''\n",
    "    for p in rawPulseStr:\n",
    "        pulseStr=actionDict[int(p)]+','+pulseStr\n",
    "    pulseStr=pulseStr[0:-1]\n",
    "    return pulseStr\n",
    "\n",
    "env = gym.make('pp-v0')\n",
    "\n",
    "observation = env.reset()"
   ]
  },
  {
   "cell_type": "markdown",
   "metadata": {},
   "source": [
    "## Set parameters"
   ]
  },
  {
   "cell_type": "code",
   "execution_count": 37,
   "metadata": {},
   "outputs": [],
   "source": [
    "def Pauli(n):\n",
    "    if n==0:\n",
    "      return np.eye(2)\n",
    "    elif n==1:\n",
    "      return np.array([[0,1],[1,0]])\n",
    "    elif n==2:\n",
    "      return np.array([[0,-1j],[1j,0]])\n",
    "    elif n==3:\n",
    "      return np.array([[1,0],[0,-1]])\n",
    "    else:\n",
    "      raise ValueError('Input must be integer from 0 to 3.')\n",
    "\n",
    "# returns sigma_a^p*sigma_b^q, with a,b = 1,2,3, p,q being position\n",
    "def Kron2body(N_atom,a,b,p,q):\n",
    "    y=1\n",
    "    for i in range(N_atom):\n",
    "        if i==p:\n",
    "            y=np.kron(y,Pauli(a))\n",
    "        elif i==q:\n",
    "            y=np.kron(y,Pauli(b))\n",
    "        else:\n",
    "            y=np.kron(y,np.eye(2))\n",
    "    return y\n",
    "\n",
    "def Hamiltonian(N_atom,bc,cplist,model):\n",
    "    H=np.zeros((2**N_atom,2**N_atom))\n",
    "    for pp in range(len(cplist)):\n",
    "        for p in range(N_atom):\n",
    "            if bc=='p':\n",
    "                q=(p+pp)%N_atom\n",
    "            elif bc=='o':\n",
    "                q=p+pp\n",
    "                if q>=N_atom:\n",
    "                    continue\n",
    "            H=H+cplist[pp]*(model[0]*Kron2body(N_atom,1,1,p,q)\n",
    "                            +model[1]*Kron2body(N_atom,2,2,p,q)\n",
    "                            +model[2]*Kron2body(N_atom,3,3,p,q))\n",
    "    return H"
   ]
  },
  {
   "cell_type": "code",
   "execution_count": 41,
   "metadata": {},
   "outputs": [
    {
     "data": {
      "text/plain": [
       "array([[ 0.+0.j,  0.+0.j,  0.+0.j,  0.+0.j,  0.+0.j,  0.+0.j, -1.+0.j,\n",
       "        -0.+0.j],\n",
       "       [ 0.+0.j,  0.+0.j,  0.+0.j,  0.+0.j,  0.+0.j,  0.+0.j, -0.+0.j,\n",
       "        -1.+0.j],\n",
       "       [ 0.+0.j,  0.+0.j,  0.+0.j,  0.+0.j,  1.+0.j,  0.+0.j,  0.+0.j,\n",
       "         0.+0.j],\n",
       "       [ 0.+0.j,  0.+0.j,  0.+0.j,  0.+0.j,  0.+0.j,  1.+0.j,  0.+0.j,\n",
       "         0.+0.j],\n",
       "       [ 0.+0.j,  0.+0.j,  1.+0.j,  0.+0.j,  0.+0.j,  0.+0.j,  0.+0.j,\n",
       "         0.+0.j],\n",
       "       [ 0.+0.j,  0.+0.j,  0.+0.j,  1.+0.j,  0.+0.j,  0.+0.j,  0.+0.j,\n",
       "         0.+0.j],\n",
       "       [-1.+0.j, -0.+0.j,  0.+0.j,  0.+0.j,  0.+0.j,  0.+0.j,  0.+0.j,\n",
       "         0.+0.j],\n",
       "       [-0.+0.j, -1.+0.j,  0.+0.j,  0.+0.j,  0.+0.j,  0.+0.j,  0.+0.j,\n",
       "         0.+0.j]])"
      ]
     },
     "execution_count": 41,
     "metadata": {},
     "output_type": "execute_result"
    }
   ],
   "source": [
    "Kron2body(3,2,2,0,1)"
   ]
  },
  {
   "cell_type": "code",
   "execution_count": 39,
   "metadata": {},
   "outputs": [
    {
     "data": {
      "text/plain": [
       "array([[ 6.+0.j, -1.+1.j, -1.+1.j,  0.+0.j, -1.+1.j,  0.+0.j,  0.+0.j,\n",
       "         0.+0.j],\n",
       "       [-1.-1.j,  2.+0.j,  0.+0.j, -1.+1.j,  0.+0.j, -1.+1.j,  0.+0.j,\n",
       "         0.+0.j],\n",
       "       [-1.-1.j,  0.+0.j,  2.+0.j, -1.+1.j,  0.+0.j,  0.+0.j, -1.+1.j,\n",
       "         0.+0.j],\n",
       "       [ 0.+0.j, -1.-1.j, -1.-1.j, -2.+0.j,  0.+0.j,  0.+0.j,  0.+0.j,\n",
       "        -1.+1.j],\n",
       "       [-1.-1.j,  0.+0.j,  0.+0.j,  0.+0.j,  2.+0.j, -1.+1.j, -1.+1.j,\n",
       "         0.+0.j],\n",
       "       [ 0.+0.j, -1.-1.j,  0.+0.j,  0.+0.j, -1.-1.j, -2.+0.j,  0.+0.j,\n",
       "        -1.+1.j],\n",
       "       [ 0.+0.j,  0.+0.j, -1.-1.j,  0.+0.j, -1.-1.j,  0.+0.j, -2.+0.j,\n",
       "        -1.+1.j],\n",
       "       [ 0.+0.j,  0.+0.j,  0.+0.j, -1.-1.j,  0.+0.j, -1.-1.j, -1.-1.j,\n",
       "        -6.+0.j]])"
      ]
     },
     "execution_count": 39,
     "metadata": {},
     "output_type": "execute_result"
    }
   ],
   "source": [
    "Hamiltonian(3,'p',[1],[-1,-1,2])"
   ]
  },
  {
   "cell_type": "code",
   "execution_count": 4,
   "metadata": {},
   "outputs": [],
   "source": [
    "maxTime=6\n",
    "nSpin=3\n",
    "env.setParam(maxTime,nSpin)\n",
    "\n",
    "env.setTarget(np.eye(2**env.nSpin))\n",
    "\n",
    "H=np.array([[3,0,0,0,0,0,0,0],\n",
    "     [0,-1,-1,0,-1,0,0,0],\n",
    "     [0,-1,-1,0,-1,0,0,0],\n",
    "     [0,0,0,-1,0,-1,-1,0],\n",
    "     [0,-1,-1,0,-1,0,0,0],\n",
    "     [0,0,0,-1,0,-1,-1,0],\n",
    "     [0,0,0,-1,0,-1,-1,0],\n",
    "     [0,0,0,0,0,0,0,3]])\n",
    "J=8.18e-3\n",
    "t=1\n",
    "env.setU0(expm(-1j*J*H*t))"
   ]
  },
  {
   "cell_type": "markdown",
   "metadata": {},
   "source": [
    "## Q learning"
   ]
  },
  {
   "cell_type": "code",
   "execution_count": 22,
   "metadata": {},
   "outputs": [
    {
     "name": "stdout",
     "output_type": "stream",
     "text": [
      "Episode: 1\n",
      "-y,y\n",
      "[[1.00000000e+00+0.j 2.23711432e-17+0.j]\n",
      " [2.23711432e-17+0.j 1.00000000e+00+0.j]]\n",
      "Fidelity: 0.9999623679136105, Reward: 10.187653510050964\n",
      "Episode: 22\n",
      "d,-y,x,-x,y\n",
      "[[ 1.00000000e+00+0.j -6.22328532e-19+0.j]\n",
      " [-6.22328532e-19+0.j  1.00000000e+00+0.j]]\n",
      "Fidelity: 0.9999939851448676, Reward: 12.021278293215369\n",
      "Episode: 261\n",
      "-x,d,x,-y,d,y\n",
      "[[ 1.00000000e+00+0.j -6.22328532e-19+0.j]\n",
      " [-6.22328532e-19+0.j  1.00000000e+00+0.j]]\n",
      "Fidelity: 0.999999999993936, Reward: 25.828645174649406\n",
      "Episode: 388\n",
      "-x,y,y,-x,-y,-y\n",
      "[[1.00000000e+00+0.j 2.36158002e-17+0.j]\n",
      " [2.36158002e-17+0.j 1.00000000e+00+0.j]]\n",
      "Fidelity: 0.9999999999984828, Reward: 27.21413429433638\n",
      "Recent 500 average reward: -515.6548293231219\n",
      "Episode: 963\n",
      "-x,-y,y,x,y,-y\n",
      "[[1.00000000e+00+0.j 2.36158002e-17+0.j]\n",
      " [2.36158002e-17+0.j 1.00000000e+00+0.j]]\n",
      "Fidelity: 0.999999999998483, Reward: 27.21428065364875\n",
      "Recent 500 average reward: -676.977338351263\n",
      "Recent 500 average reward: -606.3226902996241\n",
      "Recent 500 average reward: -515.521522864027\n",
      "Recent 500 average reward: -596.2309504515343\n",
      "Recent 500 average reward: -656.7003085699376\n",
      "Recent 500 average reward: -555.7864877151503\n",
      "Recent 500 average reward: -525.7470056670862\n",
      "Recent 500 average reward: -545.7778738735609\n",
      "Recent 500 average reward: -596.3046917290379\n",
      "Recent 500 average reward: -555.9619358898202\n",
      "Recent 500 average reward: -505.3455033606849\n",
      "Recent 500 average reward: -576.1108514482963\n",
      "Recent 500 average reward: -535.7791834700712\n",
      "Recent 500 average reward: -555.9970247898531\n",
      "Recent 500 average reward: -555.9748318116418\n",
      "Recent 500 average reward: -505.55198528926684\n",
      "Recent 500 average reward: -576.0973353576268\n",
      "Recent 500 average reward: -616.5154875634589\n",
      "Best sequece:-x,-y,y,x,y,-y\n"
     ]
    }
   ],
   "source": [
    "nEpisodes=10000\n",
    "alpha=0.2\n",
    "gamma=0.9\n",
    "beta=0.2\n",
    "\n",
    "qTable=np.zeros((5**maxTime,6))\n",
    "\n",
    "# how many actions are available (maxTime is not considered)\n",
    "def getAvailableAction(state,frame):\n",
    "    if np.max(np.abs(frame-np.eye(2)))<1e-10 and state['n']!=0:\n",
    "        return 6\n",
    "    else:\n",
    "        return 5\n",
    "\n",
    "# get the next action\n",
    "def getAction(state,frame):\n",
    "    if state['n']==maxTime:\n",
    "        return 5\n",
    "    nAction=getAvailableAction(state,frame)\n",
    "    prob=np.exp(beta*qTable[state['pp'],0:nAction])\n",
    "    prob=prob/np.sum(prob)\n",
    "    action=np.random.choice(nAction,1,p=prob)\n",
    "    return action[0]\n",
    "\n",
    "best_reward=0\n",
    "best_pp=None\n",
    "reward_list=[]\n",
    "for episode in range(nEpisodes):\n",
    "    state,info=env.reset()\n",
    "    frame=info[\"frame\"]\n",
    "    done=False\n",
    "    while not done:\n",
    "        action=getAction(state,frame)\n",
    "        next_state, reward, done, info=env.step(action)\n",
    "        frame=info[\"frame\"]\n",
    "        if done:\n",
    "            qTable[state['pp'],action]=(1-alpha)*qTable[state['pp'],action]+alpha*reward\n",
    "        else:\n",
    "            qTable[state['pp'],action]=((1-alpha)*qTable[state['pp'],action]+\n",
    "                                    alpha*(reward+gamma*np.max(qTable[next_state['pp'], 0:getAvailableAction(next_state,frame)])))\n",
    "            state=next_state\n",
    "    if reward>best_reward:\n",
    "        best_reward=reward\n",
    "        best_pp=getPPstr(env.state)\n",
    "        print('Episode: '+str(episode))\n",
    "        print(getPPstr(env.state))\n",
    "        print(env.frame)\n",
    "        print('Fidelity: '+str(env.getFidelity())+', Reward: '+str(reward))\n",
    "    reward_list.append(reward)\n",
    "    if episode%500==0 and episode!=0:\n",
    "        recent_reward=reward_list[episode-99:episode+1]\n",
    "        print('Recent 500 average reward: '+str(np.mean(recent_reward)))\n",
    "        \n",
    "print('Best sequece: '+best_pp)"
   ]
  },
  {
   "cell_type": "markdown",
   "metadata": {},
   "source": [
    "## Sequence tests"
   ]
  },
  {
   "cell_type": "code",
   "execution_count": 30,
   "metadata": {},
   "outputs": [],
   "source": [
    "H=np.array([[3,0,0,0,0,0,0,0],\n",
    "     [0,-1,-1,0,-1,0,0,0],\n",
    "     [0,-1,-1,0,-1,0,0,0],\n",
    "     [0,0,0,-1,0,-1,-1,0],\n",
    "     [0,-1,-1,0,-1,0,0,0],\n",
    "     [0,0,0,-1,0,-1,-1,0],\n",
    "     [0,0,0,-1,0,-1,-1,0],\n",
    "     [0,0,0,0,0,0,0,3]])\n",
    "J=8.18e-3\n",
    "t=1\n",
    "env.setU0(expm(-1j*J*H*t*4))"
   ]
  },
  {
   "cell_type": "code",
   "execution_count": 31,
   "metadata": {},
   "outputs": [
    {
     "name": "stdout",
     "output_type": "stream",
     "text": [
      "-x,-y,y,x,y,-y\n",
      "[[1.00000000e+00+0.j 2.36158002e-17+0.j]\n",
      " [2.36158002e-17+0.j 1.00000000e+00+0.j]]\n",
      "Fidelity: 0.9999999938473954, Reward: 18.906390324790543\n"
     ]
    }
   ],
   "source": [
    "env.reset()\n",
    "observation, reward, done, info = env.step(3)\n",
    "#print(env.frame)\n",
    "#print(np.round(env.unitary*10000)/10000)\n",
    "observation, reward, done, info = env.step(4)\n",
    "#print(env.frame)\n",
    "#print(np.round(env.unitary*10000)/10000)\n",
    "observation, reward, done, info = env.step(2)\n",
    "#print(env.frame)\n",
    "#print(np.round(env.unitary*10000)/10000)\n",
    "observation, reward, done, info = env.step(1)\n",
    "#print(env.frame)\n",
    "#print(np.round(env.unitary*10000)/10000)\n",
    "observation, reward, done, info = env.step(2)\n",
    "#print(env.frame)\n",
    "#print(np.round(env.unitary*10000)/10000)\n",
    "observation, reward, done, info = env.step(4)\n",
    "#print(np.round(env.unitary*10000)/10000)\n",
    "observation, reward, done, info = env.step(5)\n",
    "print(getPPstr(env.state))\n",
    "print(env.frame)\n",
    "print('Fidelity: '+str(env.getFidelity())+', Reward: '+str(reward))"
   ]
  },
  {
   "cell_type": "code",
   "execution_count": 32,
   "metadata": {},
   "outputs": [
    {
     "name": "stdout",
     "output_type": "stream",
     "text": [
      "d,x,-y,d,y,-x\n",
      "[[ 1.00000000e+00+0.j -3.25176795e-17+0.j]\n",
      " [-3.25176795e-17+0.j  1.00000000e+00+0.j]]\n",
      "Fidelity: 0.9999999753895814, Reward: 17.520095963670652\n"
     ]
    }
   ],
   "source": [
    "env.reset()\n",
    "observation, reward, done, info = env.step(0)\n",
    "#print(env.frame)\n",
    "#print(np.round(env.unitary*10000)/10000)\n",
    "observation, reward, done, info = env.step(1)\n",
    "#print(env.frame)\n",
    "#print(np.round(env.unitary*10000)/10000)\n",
    "observation, reward, done, info = env.step(4)\n",
    "#print(env.frame)\n",
    "#print(np.round(env.unitary*10000)/10000)\n",
    "observation, reward, done, info = env.step(0)\n",
    "#print(env.frame)\n",
    "#print(np.round(env.unitary*10000)/10000)\n",
    "observation, reward, done, info = env.step(2)\n",
    "#print(env.frame)\n",
    "#print(np.round(env.unitary*10000)/10000)\n",
    "observation, reward, done, info = env.step(3)\n",
    "#print(dec2base(env.state['pp'],5,env.state['n']))\n",
    "\n",
    "observation, reward, done, info = env.step(5)\n",
    "\n",
    "print(getPPstr(env.state))\n",
    "print(env.frame)\n",
    "print('Fidelity: '+str(env.getFidelity())+', Reward: '+str(reward))"
   ]
  },
  {
   "cell_type": "code",
   "execution_count": 23,
   "metadata": {},
   "outputs": [
    {
     "data": {
      "text/plain": [
       "({'pp': 0, 'n': 0}, {'frame': array([[1., 0.],\n",
       "         [0., 1.]])})"
      ]
     },
     "execution_count": 23,
     "metadata": {},
     "output_type": "execute_result"
    }
   ],
   "source": [
    "env.reset()"
   ]
  },
  {
   "cell_type": "code",
   "execution_count": 7,
   "metadata": {},
   "outputs": [],
   "source": [
    "observation, reward, done, info = env.step(1)\n",
    "observation, reward, done, info = env.step(3)"
   ]
  },
  {
   "cell_type": "code",
   "execution_count": 8,
   "metadata": {},
   "outputs": [],
   "source": [
    "observation, reward, done, info = env.step(5)"
   ]
  },
  {
   "cell_type": "code",
   "execution_count": 9,
   "metadata": {},
   "outputs": [
    {
     "name": "stdout",
     "output_type": "stream",
     "text": [
      "-x,x\n",
      "[[1.+0.j 0.+0.j]\n",
      " [0.+0.j 1.+0.j]]\n",
      "Fidelity: 0.9999623679136105, Reward: 10.187653510050964\n"
     ]
    }
   ],
   "source": [
    "print(getPPstr(env.state))\n",
    "print(env.frame)\n",
    "print('Fidelity: '+str(env.getFidelity())+', Reward: '+str(reward))"
   ]
  },
  {
   "cell_type": "code",
   "execution_count": 32,
   "metadata": {},
   "outputs": [
    {
     "name": "stdout",
     "output_type": "stream",
     "text": [
      "[[ 0.3536+0.j      0.    -0.3536j  0.    -0.3536j -0.3536+0.j\n",
      "   0.    -0.3536j -0.3536+0.j     -0.3536+0.j      0.    +0.3536j]\n",
      " [ 0.    -0.3536j  0.3536+0.j     -0.3536+0.j      0.    -0.3536j\n",
      "  -0.3536+0.j      0.    -0.3536j  0.    +0.3536j -0.3536+0.j    ]\n",
      " [ 0.    -0.3536j -0.3536+0.j      0.3536+0.j      0.    -0.3536j\n",
      "  -0.3536+0.j      0.    +0.3536j  0.    -0.3536j -0.3536+0.j    ]\n",
      " [-0.3536+0.j      0.    -0.3536j  0.    -0.3536j  0.3536+0.j\n",
      "   0.    +0.3536j -0.3536+0.j     -0.3536+0.j      0.    -0.3536j]\n",
      " [ 0.    -0.3536j -0.3536+0.j     -0.3536+0.j      0.    +0.3536j\n",
      "   0.3536+0.j      0.    -0.3536j  0.    -0.3536j -0.3536+0.j    ]\n",
      " [-0.3536+0.j      0.    -0.3536j  0.    +0.3536j -0.3536+0.j\n",
      "   0.    -0.3536j  0.3536+0.j     -0.3536+0.j      0.    -0.3536j]\n",
      " [-0.3536+0.j      0.    +0.3536j  0.    -0.3536j -0.3536+0.j\n",
      "   0.    -0.3536j -0.3536+0.j      0.3536+0.j      0.    -0.3536j]\n",
      " [ 0.    +0.3536j -0.3536+0.j     -0.3536+0.j      0.    -0.3536j\n",
      "  -0.3536+0.j      0.    -0.3536j  0.    -0.3536j  0.3536+0.j    ]]\n"
     ]
    }
   ],
   "source": [
    "X=env.u_frame_nSpin(np.array([[1,-1j],[-1j,1]])/np.sqrt(2))\n",
    "print(np.matrix(np.round(X*10000)/10000))"
   ]
  },
  {
   "cell_type": "code",
   "execution_count": 15,
   "metadata": {},
   "outputs": [
    {
     "data": {
      "text/plain": [
       "array([[ 1.33226763e-15-1.73472348e-17j, -6.81053464e-19-2.77472187e-17j,\n",
       "        -7.28428967e-19+4.10193505e-17j,  4.33680869e-19+1.73472348e-17j,\n",
       "         2.36787913e-18+9.64712220e-17j,  4.33680869e-19+1.73472348e-17j,\n",
       "         4.33680869e-19+1.73472348e-17j,  0.00000000e+00+0.00000000e+00j],\n",
       "       [ 3.10164812e-19-2.07018011e-17j,  1.33226763e-15+5.20417043e-18j,\n",
       "        -1.21972744e-19+5.20417043e-18j,  4.77559332e-19-7.49514472e-18j,\n",
       "        -1.49077799e-19+5.20417043e-18j, -8.84634649e-19+4.80063869e-17j,\n",
       "        -3.27823055e-18+1.10985624e-16j, -3.79470760e-19+1.56125113e-17j],\n",
       "       [ 2.04488829e-18-3.63383124e-17j, -1.35525272e-19+5.20417043e-18j,\n",
       "         1.33226763e-15+5.20417043e-18j, -3.89802406e-19-5.08767841e-17j,\n",
       "        -1.49077799e-19+5.20417043e-18j, -1.72729107e-20+1.11025638e-16j,\n",
       "        -2.41086882e-18+6.40803278e-17j, -4.33680869e-19+1.73472348e-17j],\n",
       "       [-3.79470760e-19+1.56125113e-17j,  2.41086882e-18-1.19591479e-16j,\n",
       "         1.72729107e-20+5.08864037e-17j,  1.33226763e-15+5.20417043e-18j,\n",
       "        -2.21228281e-18-1.29553222e-20j, -1.49077799e-19+5.20417043e-18j,\n",
       "        -1.35525272e-19+5.20417043e-18j, -2.04488829e-18-1.91728389e-17j],\n",
       "       [ 2.04488829e-18+1.91728389e-17j, -1.35525272e-19+5.20417043e-18j,\n",
       "        -1.49077799e-19+5.20417043e-18j,  2.21228281e-18+1.29553222e-20j,\n",
       "         1.33226763e-15+5.20417043e-18j, -1.72729107e-20-5.08864037e-17j,\n",
       "        -2.41086882e-18+1.19591479e-16j, -4.33680869e-19+1.73472348e-17j],\n",
       "       [-3.79470760e-19+1.73472348e-17j,  2.41086882e-18-6.40803278e-17j,\n",
       "         1.72729107e-20-1.11025638e-16j, -1.49077799e-19+5.20417043e-18j,\n",
       "         3.89802406e-19+5.08767841e-17j,  1.33226763e-15+5.20417043e-18j,\n",
       "        -1.35525272e-19+5.20417043e-18j, -2.04488829e-18+3.63383124e-17j],\n",
       "       [-3.79470760e-19+1.56125113e-17j,  3.27823055e-18-1.10985624e-16j,\n",
       "         8.84634649e-19-4.80063869e-17j, -1.21972744e-19+5.20417043e-18j,\n",
       "        -4.77559332e-19+7.49514472e-18j, -1.49077799e-19+5.20417043e-18j,\n",
       "         1.33226763e-15+5.20417043e-18j, -3.10164812e-19+2.07018011e-17j],\n",
       "       [ 0.00000000e+00+0.00000000e+00j,  4.33680869e-19+1.73472348e-17j,\n",
       "         4.33680869e-19+1.73472348e-17j, -2.36787913e-18-9.64712220e-17j,\n",
       "         4.33680869e-19+1.73472348e-17j,  7.28428967e-19-4.10193505e-17j,\n",
       "         6.81053464e-19+2.77472187e-17j,  1.33226763e-15-1.73472348e-17j]])"
      ]
     },
     "execution_count": 15,
     "metadata": {},
     "output_type": "execute_result"
    }
   ],
   "source": [
    "np.dot(env.U0,np.dot(np.dot(X,env.U0),np.transpose(np.conjugate(X))))-env.unitary"
   ]
  },
  {
   "cell_type": "code",
   "execution_count": 18,
   "metadata": {},
   "outputs": [],
   "source": [
    "Uy=np.dot(np.dot(X,env.U0),np.transpose(np.conjugate(X)))"
   ]
  },
  {
   "cell_type": "code",
   "execution_count": 20,
   "metadata": {},
   "outputs": [
    {
     "data": {
      "text/plain": [
       "array([[ 9.997e-01+0.0123j,  0.000e+00-0.j    ,  0.000e+00+0.j    ,\n",
       "         0.000e+00+0.0123j,  0.000e+00+0.j    ,  0.000e+00+0.0123j,\n",
       "         0.000e+00+0.0123j,  0.000e+00+0.j    ],\n",
       "       [ 0.000e+00-0.j    ,  9.999e-01-0.0041j, -1.000e-04-0.0041j,\n",
       "         0.000e+00-0.j    , -1.000e-04-0.0041j,  0.000e+00+0.j    ,\n",
       "         0.000e+00+0.j    ,  0.000e+00+0.0123j],\n",
       "       [ 0.000e+00-0.j    , -1.000e-04-0.0041j,  9.999e-01-0.0041j,\n",
       "        -0.000e+00+0.j    , -1.000e-04-0.0041j,  0.000e+00+0.j    ,\n",
       "         0.000e+00+0.j    ,  0.000e+00+0.0123j],\n",
       "       [ 0.000e+00+0.0123j,  0.000e+00-0.j    ,  0.000e+00+0.j    ,\n",
       "         9.999e-01-0.0041j,  0.000e+00+0.j    , -1.000e-04-0.0041j,\n",
       "        -1.000e-04-0.0041j, -0.000e+00+0.j    ],\n",
       "       [ 0.000e+00+0.j    , -1.000e-04-0.0041j, -1.000e-04-0.0041j,\n",
       "         0.000e+00+0.j    ,  9.999e-01-0.0041j,  0.000e+00-0.j    ,\n",
       "         0.000e+00+0.j    ,  0.000e+00+0.0123j],\n",
       "       [ 0.000e+00+0.0123j,  0.000e+00-0.j    , -0.000e+00+0.j    ,\n",
       "        -1.000e-04-0.0041j,  0.000e+00+0.j    ,  9.999e-01-0.0041j,\n",
       "        -1.000e-04-0.0041j,  0.000e+00+0.j    ],\n",
       "       [ 0.000e+00+0.0123j,  0.000e+00-0.j    ,  0.000e+00-0.j    ,\n",
       "        -1.000e-04-0.0041j,  0.000e+00+0.j    , -1.000e-04-0.0041j,\n",
       "         9.999e-01-0.0041j,  0.000e+00+0.j    ],\n",
       "       [ 0.000e+00+0.j    ,  0.000e+00+0.0123j,  0.000e+00+0.0123j,\n",
       "         0.000e+00-0.j    ,  0.000e+00+0.0123j,  0.000e+00-0.j    ,\n",
       "         0.000e+00+0.j    ,  9.997e-01+0.0123j]])"
      ]
     },
     "execution_count": 20,
     "metadata": {},
     "output_type": "execute_result"
    }
   ],
   "source": [
    "np.round(Uy*10000)/10000"
   ]
  },
  {
   "cell_type": "code",
   "execution_count": 21,
   "metadata": {},
   "outputs": [
    {
     "data": {
      "text/plain": [
       "array([[ 9.997e-01-0.0123j,  0.000e+00+0.j    ,  0.000e+00-0.j    ,\n",
       "         3.000e-04+0.0123j, -0.000e+00+0.j    ,  3.000e-04+0.0123j,\n",
       "         3.000e-04+0.0123j,  0.000e+00+0.j    ],\n",
       "       [ 0.000e+00+0.j    ,  9.999e-01+0.0041j, -1.000e-04+0.0041j,\n",
       "         0.000e+00+0.j    , -1.000e-04+0.0041j,  0.000e+00-0.j    ,\n",
       "         0.000e+00-0.j    , -3.000e-04+0.0123j],\n",
       "       [ 0.000e+00+0.j    , -1.000e-04+0.0041j,  9.999e-01+0.0041j,\n",
       "         0.000e+00+0.j    , -1.000e-04+0.0041j,  0.000e+00-0.j    ,\n",
       "         0.000e+00-0.j    , -3.000e-04+0.0123j],\n",
       "       [-3.000e-04+0.0123j,  0.000e+00+0.j    , -0.000e+00+0.j    ,\n",
       "         9.999e-01+0.0041j,  0.000e+00+0.j    , -1.000e-04+0.0041j,\n",
       "        -1.000e-04+0.0041j,  0.000e+00+0.j    ],\n",
       "       [-0.000e+00+0.j    , -1.000e-04+0.0041j, -1.000e-04+0.0041j,\n",
       "        -0.000e+00+0.j    ,  9.999e-01+0.0041j,  0.000e+00+0.j    ,\n",
       "         0.000e+00-0.j    , -3.000e-04+0.0123j],\n",
       "       [-3.000e-04+0.0123j,  0.000e+00+0.j    ,  0.000e+00+0.j    ,\n",
       "        -1.000e-04+0.0041j, -0.000e+00+0.j    ,  9.999e-01+0.0041j,\n",
       "        -1.000e-04+0.0041j,  0.000e+00-0.j    ],\n",
       "       [-3.000e-04+0.0123j,  0.000e+00+0.j    ,  0.000e+00+0.j    ,\n",
       "        -1.000e-04+0.0041j,  0.000e+00-0.j    , -1.000e-04+0.0041j,\n",
       "         9.999e-01+0.0041j,  0.000e+00-0.j    ],\n",
       "       [ 0.000e+00+0.j    ,  3.000e-04+0.0123j,  3.000e-04+0.0123j,\n",
       "         0.000e+00+0.j    ,  3.000e-04+0.0123j,  0.000e+00+0.j    ,\n",
       "        -0.000e+00+0.j    ,  9.997e-01-0.0123j]])"
      ]
     },
     "execution_count": 21,
     "metadata": {},
     "output_type": "execute_result"
    }
   ],
   "source": [
    "np.round(env.unitary*10000)/10000"
   ]
  },
  {
   "cell_type": "code",
   "execution_count": 21,
   "metadata": {},
   "outputs": [
    {
     "data": {
      "text/plain": [
       "array([[ 1.+0.j,  0.+0.j,  0.+0.j,  0.+0.j,  0.+0.j,  0.+0.j,  0.+0.j,\n",
       "         0.+0.j],\n",
       "       [ 0.+0.j,  1.+0.j,  0.+0.j, -0.+0.j,  0.+0.j, -0.-0.j,  0.-0.j,\n",
       "         0.+0.j],\n",
       "       [ 0.+0.j,  0.-0.j,  1.+0.j,  0.+0.j,  0.-0.j, -0.-0.j,  0.+0.j,\n",
       "         0.+0.j],\n",
       "       [ 0.+0.j, -0.-0.j,  0.-0.j,  1.+0.j, -0.-0.j,  0.+0.j,  0.+0.j,\n",
       "         0.+0.j],\n",
       "       [ 0.+0.j,  0.-0.j,  0.+0.j, -0.+0.j,  1.+0.j, -0.+0.j,  0.+0.j,\n",
       "         0.+0.j],\n",
       "       [ 0.+0.j, -0.+0.j, -0.+0.j,  0.-0.j, -0.-0.j,  1.+0.j,  0.-0.j,\n",
       "         0.+0.j],\n",
       "       [ 0.+0.j, -0.+0.j,  0.+0.j,  0.-0.j,  0.+0.j,  0.+0.j,  1.+0.j,\n",
       "         0.+0.j],\n",
       "       [ 0.+0.j,  0.+0.j,  0.+0.j,  0.+0.j,  0.+0.j,  0.+0.j,  0.+0.j,\n",
       "         1.+0.j]])"
      ]
     },
     "execution_count": 21,
     "metadata": {},
     "output_type": "execute_result"
    }
   ],
   "source": [
    "np.round(np.dot(V,np.transpose(np.conjugate(V))*100)/100)"
   ]
  },
  {
   "cell_type": "code",
   "execution_count": 25,
   "metadata": {},
   "outputs": [
    {
     "data": {
      "text/plain": [
       "array([[1., 0., 0., 0., 0., 0., 0., 0.],\n",
       "       [0., 1., 0., 0., 0., 0., 0., 0.],\n",
       "       [0., 0., 1., 0., 0., 0., 0., 0.],\n",
       "       [0., 0., 0., 1., 0., 0., 0., 0.],\n",
       "       [0., 0., 0., 0., 1., 0., 0., 0.],\n",
       "       [0., 0., 0., 0., 0., 1., 0., 0.],\n",
       "       [0., 0., 0., 0., 0., 0., 1., 0.],\n",
       "       [0., 0., 0., 0., 0., 0., 0., 1.]])"
      ]
     },
     "execution_count": 25,
     "metadata": {},
     "output_type": "execute_result"
    }
   ],
   "source": [
    "np.round(np.abs(D)*100)/100"
   ]
  },
  {
   "cell_type": "code",
   "execution_count": 27,
   "metadata": {},
   "outputs": [
    {
     "data": {
      "text/plain": [
       "array([[0.98917976+1.46708559e-01j, 0.        +0.00000000e+00j,\n",
       "        0.        +0.00000000e+00j, 0.        +0.00000000e+00j,\n",
       "        0.        +0.00000000e+00j, 0.        +0.00000000e+00j,\n",
       "        0.        +0.00000000e+00j, 0.        +0.00000000e+00j],\n",
       "       [0.        +0.00000000e+00j, 1.        +2.08166817e-17j,\n",
       "        0.        +0.00000000e+00j, 0.        +0.00000000e+00j,\n",
       "        0.        +0.00000000e+00j, 0.        +0.00000000e+00j,\n",
       "        0.        +0.00000000e+00j, 0.        +0.00000000e+00j],\n",
       "       [0.        +0.00000000e+00j, 0.        +0.00000000e+00j,\n",
       "        1.        -3.81639165e-17j, 0.        +0.00000000e+00j,\n",
       "        0.        +0.00000000e+00j, 0.        +0.00000000e+00j,\n",
       "        0.        +0.00000000e+00j, 0.        +0.00000000e+00j],\n",
       "       [0.        +0.00000000e+00j, 0.        +0.00000000e+00j,\n",
       "        0.        +0.00000000e+00j, 1.        +1.11022302e-16j,\n",
       "        0.        +0.00000000e+00j, 0.        +0.00000000e+00j,\n",
       "        0.        +0.00000000e+00j, 0.        +0.00000000e+00j],\n",
       "       [0.        +0.00000000e+00j, 0.        +0.00000000e+00j,\n",
       "        0.        +0.00000000e+00j, 0.        +0.00000000e+00j,\n",
       "        0.98917976+1.46708559e-01j, 0.        +0.00000000e+00j,\n",
       "        0.        +0.00000000e+00j, 0.        +0.00000000e+00j],\n",
       "       [0.        +0.00000000e+00j, 0.        +0.00000000e+00j,\n",
       "        0.        +0.00000000e+00j, 0.        +0.00000000e+00j,\n",
       "        0.        +0.00000000e+00j, 1.        +1.11022302e-16j,\n",
       "        0.        +0.00000000e+00j, 0.        +0.00000000e+00j],\n",
       "       [0.        +0.00000000e+00j, 0.        +0.00000000e+00j,\n",
       "        0.        +0.00000000e+00j, 0.        +0.00000000e+00j,\n",
       "        0.        +0.00000000e+00j, 0.        +0.00000000e+00j,\n",
       "        0.98917976-1.46708559e-01j, 0.        +0.00000000e+00j],\n",
       "       [0.        +0.00000000e+00j, 0.        +0.00000000e+00j,\n",
       "        0.        +0.00000000e+00j, 0.        +0.00000000e+00j,\n",
       "        0.        +0.00000000e+00j, 0.        +0.00000000e+00j,\n",
       "        0.        +0.00000000e+00j, 0.98917976-1.46708559e-01j]])"
      ]
     },
     "execution_count": 27,
     "metadata": {},
     "output_type": "execute_result"
    }
   ],
   "source": [
    "np.diag(np.diag(D))"
   ]
  },
  {
   "cell_type": "code",
   "execution_count": null,
   "metadata": {},
   "outputs": [],
   "source": []
  }
 ],
 "metadata": {
  "kernelspec": {
   "display_name": "Python [conda env:py36]",
   "language": "python",
   "name": "conda-env-py36-py"
  },
  "language_info": {
   "codemirror_mode": {
    "name": "ipython",
    "version": 3
   },
   "file_extension": ".py",
   "mimetype": "text/x-python",
   "name": "python",
   "nbconvert_exporter": "python",
   "pygments_lexer": "ipython3",
   "version": "3.6.6"
  }
 },
 "nbformat": 4,
 "nbformat_minor": 2
}
