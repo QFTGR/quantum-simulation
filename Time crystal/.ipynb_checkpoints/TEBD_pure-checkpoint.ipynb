{
 "cells": [
  {
   "cell_type": "raw",
   "metadata": {},
   "source": [
    "20171103\n",
    "Time evolution of matrix product pure state"
   ]
  },
  {
   "cell_type": "code",
   "execution_count": 1,
   "metadata": {
    "collapsed": false
   },
   "outputs": [],
   "source": [
    "import numpy as np\n",
    "from scipy import linalg\n",
    "%matplotlib notebook\n",
    "\n",
    "import matplotlib.pyplot as plt"
   ]
  },
  {
   "cell_type": "code",
   "execution_count": 9,
   "metadata": {
    "collapsed": false
   },
   "outputs": [],
   "source": [
    "rho0i=np.array([np.sqrt(0.5),np.sqrt(0.5)]).reshape(2,1,1)\n",
    "rho0=list()\n",
    "for i in range(0,N):\n",
    "    rho0.append(rho01)"
   ]
  },
  {
   "cell_type": "code",
   "execution_count": 16,
   "metadata": {
    "collapsed": true
   },
   "outputs": [],
   "source": [
    "d=2 # Dimension. For spin 1/2 the dimention = 2\n",
    "J=1. # XX interaction coefficient\n",
    "gz=0.5 # Z field strength\n",
    "gx=0.25 # X field strength\n",
    "N=10 # Total number of spins\n",
    "delta =0.005 # Time step\n",
    "chi=5 # Maximum number of singular values\n",
    "\n",
    "sx=np.array([[0.,1.],[1.,0.]])\n",
    "sz=np.array([[1.,0.],[0.,-1.]])\n",
    "h_int=J*np.kron(sx,sx)\n",
    "h_single=gz*sz+gx*sx\n",
    "U_int=linalg.expm(1j*h_int*delta).reshape(d,d,d,d) # U(si,s(i+1),si',s(i+1)')\n",
    "U_z=linalg.expm(1j*h_single*delta).reshape(d,d) # U(si,si')\n",
    "\n",
    "Mz=list()\n",
    "Mz.append(np.transpose(np.array([[sz,np.eye(2)]]),(2,3,0,1)))\n",
    "for i in range(1,N-1):\n",
    "    temp1=np.array([[np.eye(2),np.zeros((2,2))],[sz,np.eye(2)]])\n",
    "    temp=np.transpose(temp1,(2,3,0,1))\n",
    "    Mz.append(temp)\n",
    "Mz.append(np.transpose(np.array([[np.eye(2)],[sz]]),(2,3,0,1))) # Mz(i,si,si',ai,bi)\n",
    "\n",
    "Mx=list()\n",
    "Mx.append(np.transpose(np.array([[sx,np.eye(2)]]),(2,3,0,1)))\n",
    "for i in range(1,N-1):\n",
    "    temp1=np.array([[np.eye(2),np.zeros((2,2))],[sx,np.eye(2)]])\n",
    "    temp=np.transpose(temp1,(2,3,0,1))\n",
    "    Mx.append(temp)\n",
    "Mx.append(np.transpose(np.array([[np.eye(2)],[sx]]),(2,3,0,1))) # Mz(i,si,si',ai,bi)\n",
    "\n",
    "def exp(o,rho):\n",
    "    L=len(o)\n",
    "    temp=np.tensordot(o[0],rho[0],axes=([1,0]))\n",
    "    temp=np.tensordot(np.conj(rho[0]),temp,axes=([0,0])) # temp(a0',b0',a0,b0) 'belongs to conj.\n",
    "    temp=np.transpose(temp,(0,2,1,3)) # temp(a0',a0',b0,b0)\n",
    "    for i in range(1,L):\n",
    "        temp1=np.tensordot(o[i],rho[i],axes=([1,0]))\n",
    "        temp1=np.tensordot(np.conj(rho[i]),temp,axes=([0,0])) # temp(ai',bi',ai,bi)\n",
    "        temp=np.tensordot(temp,temp1,axes=([2,3],[0,2]))\n",
    "    return temp[0,0,0,0]\n",
    "\n",
    "def uni(rho):\n",
    "    L=len(rho)\n",
    "    temp=rho[0]\n",
    "    for i in range(1,L):\n",
    "        temp=np.tensordot(temp,rho[i],axes=([len(np.shape(temp))-1,2]))\n",
    "    return temp\n",
    "\n",
    "# returns <rho|rho>\n",
    "def norm(rho):\n",
    "    L=len(rho)\n",
    "    temp=np.tensordot(np.conj(rho[0]),rho[0],axes=([0,0])) # temp(a0',b0',a0,b0) 'belongs to conj.\n",
    "    temp=np.transpose(temp,(0,2,1,3)) # temp(a0',a0,b0',b0)\n",
    "    for i in range(1,L):\n",
    "        temp1=np.tensordot(np.conj(rho[i]),rho[i],axes=([0,0])) # temp1(ai',bi',ai,bi)\n",
    "        temp=np.tensordot(temp,temp1,axes=([2,3],[0,2])) # temp(a0',a0,bi',bi)\n",
    "    return abs(temp[0,0,0,0])\n",
    "\n",
    "# two-site evolution\n",
    "def evo2(A1,A2,U,chi):\n",
    "    theta=np.tensordot(A1,A2,axes=([2,1])) # theta(si,ai,s(i+1),b(i+1))\n",
    "    dai=A1.shape[1] # dimension of ai\n",
    "    dbip1=A2.shape[2] # dimension of b(i+1)\n",
    "    # apply U \n",
    "    theta=np.tensordot(U,theta,axes=([2,3],[0,2])) # theta(si,s(i+1),ai,b(i+1))\n",
    "    theta=np.transpose(theta,(0,2,1,3)) # theta(si,ai,s(i+1),b(i+1))\n",
    "    sh=theta.shape\n",
    "    theta=theta.reshape(sh[0]*sh[1]*sh[2],sh[3]*sh[4]*sh[5])\n",
    "    [L,S,R]=np.linalg.svd(theta)\n",
    "    D=np.zeros((L.shape[1],R.shape[0]))\n",
    "    for i in range(0,S.shape[0]):\n",
    "        D[i,i]=S[i]\n",
    "    R=np.dot(D,R) # L(si*si'*ai,bi) R(a(i+1),s(i+1)*s(i+1)'*b(i+1))\n",
    "    ent=R.shape[0]\n",
    "    if ent>chi:\n",
    "        L=L[:,0:chi] # L(si*si'*ai,bi)\n",
    "        R=R[0:chi,:] # R(a(i+1),s(i+1)*s(i+1)'*b(i+1))\n",
    "        B1=L.reshape(d,d,dai,chi)\n",
    "        B2=np.transpose(R.reshape(chi,d,d,dbip1),(1,2,0,3))\n",
    "    else:\n",
    "        B1=L.reshape(d,d,dai,ent)\n",
    "        B2=np.transpose(R.reshape(ent,d,d,dbip1),(1,2,0,3))\n",
    "    return B1,B2\n",
    "\n",
    "#single-site evolution\n",
    "def evo1(A,U):\n",
    "    # A(si,si',ai,bi)\n",
    "    # U(si,si')\n",
    "    A=np.tensordot(A,U,axes=([1,0])) # A(si,ai,bi,si')\n",
    "    A=np.tensordot(np.conj(np.transpose(U)),A,axes=([1,0])) # A(si,ai,bi,si')\n",
    "    A=np.transpose(A,(0,3,1,2)) # A(si,si',ai,bi)\n",
    "    return A"
   ]
  },
  {
   "cell_type": "code",
   "execution_count": 17,
   "metadata": {
    "collapsed": false
   },
   "outputs": [],
   "source": [
    "T=1000\n",
    "MzExp=np.zeros(T)\n",
    "MxExp=np.zeros(T)\n",
    "#rho=list(Mx)\n",
    "rho=list(rho0)\n",
    "Norm=norm(rho)\n",
    "for i in range(0,N):\n",
    "    rho[i]=rho[i]*(1/Norm)**(0.5/N)\n",
    "MzExp[0]=np.real(exp(Mz,rho))\n",
    "MxExp[0]=np.real(exp(Mx,rho))\n",
    "\n",
    "for p in range(1,T):\n",
    "    for i in range(0,N-1,2):\n",
    "        temp1,temp2=evo2(rho[i],rho[i+1],U_int,chi)\n",
    "        rho[i]=temp1\n",
    "        rho[i+1]=temp2\n",
    "    for i in range(1,N-1,2):\n",
    "        temp1,temp2=evo2(rho[i],rho[i+1],U_int,chi)\n",
    "        rho[i]=temp1\n",
    "        rho[i+1]=temp2\n",
    "    for i in range(0,N):\n",
    "        rho[i]=evo1(rho[i],U_z)\n",
    "    Norm=norm(rho)\n",
    "    for i in range(0,N):\n",
    "        rho[i]=rho[i]*(1/Norm)**(0.5/N)\n",
    "    MzExp[p]=np.real(exp(Mz,rho))\n",
    "    MxExp[p]=np.real(exp(Mx,rho))"
   ]
  },
  {
   "cell_type": "code",
   "execution_count": null,
   "metadata": {
    "collapsed": true
   },
   "outputs": [],
   "source": [
    "# expectation value of single-site Hamiltonian\n",
    "def exp1(A,rho):\n",
    "    sh=len(rho)\n",
    "    temp=np.tensordot(rho[0],A,axes=([1,0])) # temp(s1,a1,b1,s1')\n",
    "    temp=np.transpose(temp,(0,3,1,2)) # temp(s1,s1',a1,b1)\n",
    "    temp=np.trace(temp,axis1=0,axis2=1) # temp(a1,b1)\n",
    "    for i in range(1,sh):\n",
    "        temp1=np.tensordot(rho[i],A,axes=([1,0])) # temp1(si,ai,bi,si')\n",
    "        temp1=np.transpose(temp1,(0,3,1,2)) # temp1(si,si',ai,bi)\n",
    "        temp1=np.trace(temp1,axis1=0,axis2=1)\n",
    "        temp=np.dot(temp,temp1)\n",
    "    return np.real(temp[0,0])"
   ]
  },
  {
   "cell_type": "code",
   "execution_count": 2,
   "metadata": {
    "collapsed": false
   },
   "outputs": [
    {
     "data": {
      "text/plain": [
       "0.70710678118654757"
      ]
     },
     "execution_count": 2,
     "metadata": {},
     "output_type": "execute_result"
    }
   ],
   "source": [
    "np.sqrt(0.5)"
   ]
  },
  {
   "cell_type": "code",
   "execution_count": null,
   "metadata": {
    "collapsed": true
   },
   "outputs": [],
   "source": []
  }
 ],
 "metadata": {
  "celltoolbar": "Raw Cell Format",
  "kernelspec": {
   "display_name": "Python 3",
   "language": "python",
   "name": "python3"
  },
  "language_info": {
   "codemirror_mode": {
    "name": "ipython",
    "version": 3
   },
   "file_extension": ".py",
   "mimetype": "text/x-python",
   "name": "python",
   "nbconvert_exporter": "python",
   "pygments_lexer": "ipython3",
   "version": "3.5.0"
  }
 },
 "nbformat": 4,
 "nbformat_minor": 0
}
