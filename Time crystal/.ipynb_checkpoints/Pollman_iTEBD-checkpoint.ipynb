{
 "cells": [
  {
   "cell_type": "code",
   "execution_count": 25,
   "metadata": {
    "collapsed": false
   },
   "outputs": [
    {
     "name": "stdout",
     "output_type": "stream",
     "text": [
      "0.5\n",
      "0.6\n",
      "0.7\n",
      "0.8\n",
      "0.9\n",
      "1.0\n",
      "1.1\n",
      "1.2\n",
      "1.3\n",
      "1.4\n"
     ]
    }
   ],
   "source": [
    "\"\"\" iTEBD code to find the ground state of \n",
    "the 1D Ising model on an infinite chain.\n",
    "The results are compared to the exact results.\n",
    "Frank Pollmann, frankp@pks.mpg.de\"\"\"\n",
    "\n",
    "import numpy as np\n",
    "from scipy import integrate\n",
    "from scipy.linalg import expm \n",
    "import matplotlib.pyplot as plt\n",
    "\n",
    "# First define the parameters of the model / simulation\n",
    "# H=JZZ-(g/2)X\n",
    "\n",
    "J=-1.0; g=0.5; chi=10; d=2; delta=0.005; N=10000;\n",
    "\n",
    "SE=[]\n",
    "SN=[]\n",
    "glist=np.arange(0.9,1.1,0.1)\n",
    "for g in glist:\n",
    "    print(g)\n",
    "    B=[];s=[]\n",
    "    for i in range(2):\n",
    "        B.append(np.zeros([2,1,1])); B[-1][0,0,0]=1\n",
    "        s.append(np.ones([1]))\n",
    "\n",
    "    # Generate the two-site time evolution operator\n",
    "    H_bond = np.array( [[J,-g/2,-g/2,0], [-g/2,-J,0,-g/2], [-g/2,0,-J,-g/2], [0,-g/2,-g/2,J]] )\n",
    "    U = np.reshape(expm(-delta*H_bond),(2,2,2,2))\n",
    "\n",
    "    Mz=np.array( [[J,-g/2,-g/2,0], [-g/2,-J,0,-g/2], [-g/2,0,-J,-g/2], [0,-g/2,-g/2,J]] )\n",
    "\n",
    "    # Perform the imaginary time evolution alternating on A and B bonds\n",
    "    for step in range(0, N):\n",
    "        for i_bond in [0,1]:\n",
    "            ia = np.mod(i_bond-1,2); ib = np.mod(i_bond,2); ic = np.mod(i_bond+1,2)\n",
    "            chia = B[ib].shape[1]; chic = B[ic].shape[2]\n",
    "\n",
    "            # Construct theta matrix and time evolution #\n",
    "            theta = np.tensordot(B[ib],B[ic],axes=(2,1)) # i a j b\n",
    "            theta = np.tensordot(U,theta,axes=([2,3],[0,2])) # ip jp a b \n",
    "            theta = np.tensordot(np.diag(s[ia]),theta,axes=([1,2])) # a ip jp b \n",
    "            theta = np.reshape(np.transpose(theta,(1,0,2,3)),(d*chia,d*chic)) # ip a jp b\n",
    "\n",
    "            # Schmidt deomposition #\n",
    "            X, Y, Z = np.linalg.svd(theta,full_matrices=0)\t\t\t\n",
    "            chi2 = np.min([np.sum(Y>10.**(-10)), chi])\t\n",
    "\n",
    "            piv = np.zeros(len(Y), np.bool)\n",
    "            piv[(np.argsort(Y)[::-1])[:chi2]] = True\n",
    "\n",
    "            Y = Y[piv]; invsq = np.sqrt(sum(Y**2))\n",
    "            X = X[:,piv] \n",
    "            Z = Z[piv,:]\n",
    "\n",
    "            # Obtain the new values for B and s #\n",
    "            s[ib] = Y/invsq \n",
    "\n",
    "            X=np.reshape(X,(d,chia,chi2))\n",
    "            X = np.transpose(np.tensordot(np.diag(s[ia]**(-1)),X,axes=(1,1)),(1,0,2))\n",
    "            B[ib] = np.tensordot(X, np.diag(s[ib]),axes=(2,0))\n",
    "\n",
    "            B[ic] = np.transpose(np.reshape(Z,(chi2,d,chic)),(1,0,2))\n",
    "        E=[]\n",
    "        for i_bond in range(2):\n",
    "            BB = np.tensordot(B[i_bond],B[np.mod(i_bond+1,2)],axes=(2,1))\n",
    "            sBB = np.tensordot(np.diag(s[np.mod(i_bond-1,2)]),BB,axes=(1,1))\n",
    "            C = np.tensordot(sBB,np.reshape(H_bond,[d,d,d,d]),axes=([1,2],[2,3]))\n",
    "            sBB=np.conj(sBB)\n",
    "            E.append(np.squeeze(np.tensordot(sBB,C,axes=([0,3,1,2],[0,1,2,3]))).item()) \n",
    "    SN.append(np.mean(E))\n",
    "    f = lambda k,g : -2*np.sqrt(1+g**2-2*g*np.cos(k))/np.pi/2.\n",
    "    E0_exact = integrate.quad(f, 0, np.pi, args=(g,))[0]\n",
    "    SE.append(E0_exact)"
   ]
  },
  {
   "cell_type": "code",
   "execution_count": 11,
   "metadata": {
    "collapsed": false
   },
   "outputs": [
    {
     "name": "stdout",
     "output_type": "stream",
     "text": [
      "E_iTEBD = -1.06353464383\n",
      "E_exact = -1.063544409973372\n"
     ]
    }
   ],
   "source": [
    "print('E_iTEBD =', np.mean(E))\n",
    "\n",
    "f = lambda k,g : -2*np.sqrt(1+g**2-2*g*np.cos(k))/np.pi/2.\n",
    "E0_exact = integrate.quad(f, 0, np.pi, args=(g,))[0]\n",
    "print('E_exact =', E0_exact)"
   ]
  },
  {
   "cell_type": "code",
   "execution_count": null,
   "metadata": {
    "collapsed": false
   },
   "outputs": [],
   "source": [
    "# plt.close()\n",
    "plt.figure(1)\n",
    "plt.plot(glist,SE)\n",
    "plt.plot(glist,SN)\n",
    "plt.show()"
   ]
  },
  {
   "cell_type": "code",
   "execution_count": null,
   "metadata": {
    "collapsed": true
   },
   "outputs": [],
   "source": []
  }
 ],
 "metadata": {
  "kernelspec": {
   "display_name": "Python 3",
   "language": "python",
   "name": "python3"
  },
  "language_info": {
   "codemirror_mode": {
    "name": "ipython",
    "version": 3
   },
   "file_extension": ".py",
   "mimetype": "text/x-python",
   "name": "python",
   "nbconvert_exporter": "python",
   "pygments_lexer": "ipython3",
   "version": "3.5.0"
  }
 },
 "nbformat": 4,
 "nbformat_minor": 0
}
